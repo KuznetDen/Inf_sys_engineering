{
 "cells": [
  {
   "cell_type": "markdown",
   "id": "34abb01c",
   "metadata": {},
   "source": [
    "# Инж. инф. систем\n",
    "\n",
    "# Лабораторная работа 2. Абстрактная фабрика. Строитель\n",
    "\n",
    "## Кузнецов Д.Ю.\n"
   ]
  },
  {
   "cell_type": "markdown",
   "id": "15a17832",
   "metadata": {},
   "source": [
    "**№ 1. Абстрактная фабрика**\n",
    "\n",
    "**Код:**"
   ]
  },
  {
   "cell_type": "code",
   "execution_count": 20,
   "id": "e72cf846",
   "metadata": {},
   "outputs": [
    {
     "name": "stdout",
     "output_type": "stream",
     "text": [
      "Кола\n",
      "Крылышки KFC\n"
     ]
    }
   ],
   "source": [
    "class AbstractFactory(object):\n",
    "    def create_drink(self):\n",
    "        raise NotImplementedError()\n",
    "    \n",
    "    def create_food(self):\n",
    "        raise NotImplementedError()\n",
    "\n",
    "        \n",
    "class Drink(object):\n",
    "    def __init__(self, name):\n",
    "        self._name = name\n",
    "    def __str__(self):\n",
    "        return self._name\n",
    "\n",
    "    \n",
    "class Food(object):\n",
    "    def __init__(self, name):\n",
    "        self._name = name\n",
    "    def __str__(self):\n",
    "        return self._name\n",
    "\n",
    "    \n",
    "class ConcreteFactory1(AbstractFactory):\n",
    "    def create_drink(self):\n",
    "        return Drink('Кола')\n",
    "    def create_food(self):\n",
    "        return Food('Крылышки KFC')\n",
    "\n",
    "\n",
    "class ConcreteFactory2(AbstractFactory):\n",
    "    def create_drink(self):\n",
    "        return Drink('Фанта')\n",
    "    \n",
    "    def create_food(self):\n",
    "        return Food('Шаурма')\n",
    "    \n",
    "    def get_factory(ident):\n",
    "        if ident == 0:\n",
    "            return ConcreteFactory1()\n",
    "        elif ident == 1:\n",
    "            return ConcreteFactory2()\n",
    "        \n",
    "    factory = get_factory(0)\n",
    "    print (factory.create_drink()) \n",
    "    print (factory.create_food()) \n"
   ]
  },
  {
   "cell_type": "markdown",
   "id": "1d69eff9",
   "metadata": {},
   "source": [
    "**№ 2. Строитель**\n",
    "\n",
    "**Код:**"
   ]
  },
  {
   "cell_type": "code",
   "execution_count": 26,
   "id": "30fcf18a",
   "metadata": {},
   "outputs": [
    {
     "name": "stdout",
     "output_type": "stream",
     "text": [
      "MiniLaser [off]\n"
     ]
    }
   ],
   "source": [
    "class Builder(object):\n",
    "    def build_body(self):\n",
    "        raise NotImplementedError()\n",
    " \n",
    "    def build_lens(self):\n",
    "        raise NotImplementedError()\n",
    " \n",
    "    def build_battery(self):\n",
    "        raise NotImplementedError()\n",
    " \n",
    "    def create_minilazer(self):\n",
    "        raise NotImplementedError()\n",
    " \n",
    " \n",
    "class MiniLazer(object): #(MiniLazer)\n",
    "    ('Карманный лазер')\n",
    "    def __init__(self, body, lens, battery):\n",
    "        self._ray = False #( shine - ray)\n",
    "        self._body = body\n",
    "        self._lens = lens\n",
    "        self._battery = battery\n",
    " \n",
    "    def on(self):\n",
    "        self._ray = True\n",
    " \n",
    "    def off(self):\n",
    "        self._ray = False\n",
    " \n",
    "    def __str__(self):\n",
    "        ray = 'on' if self._ray else 'off'\n",
    "        return 'MiniLaser [%s]' % ray\n",
    " \n",
    " \n",
    "class Lens(object):\n",
    "    ('Линза')\n",
    "\n",
    "class Body(object):\n",
    "    ('Корпус')\n",
    "\n",
    "class Battery(object):\n",
    "    ('Батарейка')\n",
    "\n",
    "class LazerBuilder(Builder):\n",
    "    def build_body(self):\n",
    "        return Body()\n",
    " \n",
    "    def build_battery(self):\n",
    "        return Battery()\n",
    " \n",
    "    def build_lens(self):\n",
    "        return Lens()\n",
    " \n",
    "    def create_minilazer(self):\n",
    "        body = self.build_body()\n",
    "        lens = self.build_lens()\n",
    "        battery = self.build_battery()\n",
    "        return MiniLazer(body, lens, battery)\n",
    " \n",
    " \n",
    "builder = LazerBuilder()\n",
    "minilazer = builder.create_minilazer()\n",
    "minilazer.off()\n",
    "\n",
    "print (minilazer) "
   ]
  }
 ],
 "metadata": {
  "kernelspec": {
   "display_name": "Python 3 (ipykernel)",
   "language": "python",
   "name": "python3"
  },
  "language_info": {
   "codemirror_mode": {
    "name": "ipython",
    "version": 3
   },
   "file_extension": ".py",
   "mimetype": "text/x-python",
   "name": "python",
   "nbconvert_exporter": "python",
   "pygments_lexer": "ipython3",
   "version": "3.9.12"
  }
 },
 "nbformat": 4,
 "nbformat_minor": 5
}
