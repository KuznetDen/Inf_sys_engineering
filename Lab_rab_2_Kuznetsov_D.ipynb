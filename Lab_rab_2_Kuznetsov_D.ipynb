{
 "cells": [
  {
   "cell_type": "markdown",
   "id": "42f8c592",
   "metadata": {},
   "source": [
    "# Инж. инф. систем\n",
    "\n",
    "# Лабораторная работа 2. Итератор. Посетитель\n",
    "\n",
    "## Кузнецов Д.Ю.\n"
   ]
  },
  {
   "cell_type": "markdown",
   "id": "0b5ba60a",
   "metadata": {},
   "source": [
    "**№ 1. Итератор**\n",
    "\n",
    "**Код:**"
   ]
  },
  {
   "cell_type": "code",
   "execution_count": 28,
   "id": "d0b744d1",
   "metadata": {},
   "outputs": [
    {
     "name": "stdout",
     "output_type": "stream",
     "text": [
      "3\n",
      "5\n",
      "7\n",
      "9\n",
      "10\n",
      "11\n",
      "12\n",
      "13\n",
      "1\n"
     ]
    }
   ],
   "source": [
    "class Node:\n",
    "    def __init__(self, val, left, right):\n",
    "        self.val = val\n",
    "        self.left = left\n",
    "        self.right = right\n",
    "\n",
    "\n",
    "class Iterator:\n",
    "    def __init__(self, root):\n",
    "        self.stack = []  \n",
    "        self.root = root\n",
    "\n",
    "    def Run(self):\n",
    "        node = self.root\n",
    "        while node.left:\n",
    "            self.stack.append(node)\n",
    "            node = node.left\n",
    "\n",
    "        # начало с левого узла\n",
    "        while node:\n",
    "            print(node.val)\n",
    "            node = self.Next(node)\n",
    "\n",
    "    def Next(self, node):\n",
    "        node = node.right\n",
    "\n",
    "        if not self.stack and not node:\n",
    "            return None\n",
    "\n",
    "        while node:\n",
    "            self.stack.append(node)\n",
    "            node = node.left\n",
    "\n",
    "        return self.stack.pop()\n",
    "\n",
    "if __name__ == '__main__':\n",
    "    n12 = Node(12, None, None)\n",
    "    n11 = Node(11, None, n12)\n",
    "    n9 = Node(9, None, None)\n",
    "    n10 = Node(10, n9, n11)\n",
    "    n15 = Node(1, None, None)\n",
    "    n13 = Node(13, n10, n15)\n",
    "    n5 = Node(5, None, None)\n",
    "    n3 = Node(3, None, n5)\n",
    "    n7 = Node(7, n3, n13)\n",
    "\n",
    "    iterat = Iterator(n7)\n",
    "    iterat.Run()"
   ]
  },
  {
   "cell_type": "markdown",
   "id": "7a0260d7",
   "metadata": {},
   "source": [
    "**№ 2. Посетитель**\n",
    "\n",
    "**Код:**"
   ]
  },
  {
   "cell_type": "code",
   "execution_count": 2,
   "id": "c751fa60",
   "metadata": {},
   "outputs": [
    {
     "name": "stdout",
     "output_type": "stream",
     "text": [
      "Яблоко\n",
      "Апельсин\n",
      "Фрукт\n"
     ]
    }
   ],
   "source": [
    "class FruitVisitor(object):\n",
    "    def draw(self, fruit):\n",
    "        methods = {Apple:self.draw_apple, Orange:self.draw_orange,}\n",
    "        draw = methods.get(type(fruit), self.draw_unknown)\n",
    "        draw(fruit)\n",
    "\n",
    "    def draw_apple(self, fruit):\n",
    "        print ('Яблоко')\n",
    "\n",
    "    def draw_orange(self, fruit):\n",
    "        print ('Апельсин')\n",
    "\n",
    "    def draw_unknown(self, fruit):\n",
    "        print ('Фрукт')\n",
    "\n",
    "\n",
    "class Fruit(object):\n",
    "    def draw(self, visitor):\n",
    "        visitor.draw(self)\n",
    "\n",
    "class Apple(Fruit):\n",
    "    ('Яблоко')\n",
    "\n",
    "class Orange(Fruit):\n",
    "    ('Апельсин')\n",
    "\n",
    "class Banana(Fruit):\n",
    "    ('Банан')\n",
    "\n",
    "visitor = FruitVisitor()\n",
    "\n",
    "apple = Apple()\n",
    "apple.draw(visitor)\n",
    "\n",
    "orange = Orange()\n",
    "orange.draw(visitor)\n",
    "\n",
    "banana = Banana()\n",
    "banana.draw(visitor)"
   ]
  },
  {
   "cell_type": "code",
   "execution_count": null,
   "id": "d31b5ac8",
   "metadata": {},
   "outputs": [],
   "source": []
  }
 ],
 "metadata": {
  "kernelspec": {
   "display_name": "Python 3 (ipykernel)",
   "language": "python",
   "name": "python3"
  },
  "language_info": {
   "codemirror_mode": {
    "name": "ipython",
    "version": 3
   },
   "file_extension": ".py",
   "mimetype": "text/x-python",
   "name": "python",
   "nbconvert_exporter": "python",
   "pygments_lexer": "ipython3",
   "version": "3.9.12"
  }
 },
 "nbformat": 4,
 "nbformat_minor": 5
}
