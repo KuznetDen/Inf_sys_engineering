{
 "cells": [
  {
   "cell_type": "markdown",
   "id": "34abb01c",
   "metadata": {},
   "source": [
    "# Инж. инф. систем\n",
    "\n",
    "# Лабораторная работа 4. Адаптер. Посредник.\n",
    "\n",
    "## Кузнецов Д.Ю.\n"
   ]
  },
  {
   "cell_type": "markdown",
   "id": "15a17832",
   "metadata": {},
   "source": [
    "**№ 1. Адаптер**\n",
    "\n",
    "**Код:**"
   ]
  },
  {
   "cell_type": "code",
   "execution_count": 14,
   "id": "e72cf846",
   "metadata": {},
   "outputs": [],
   "source": [
    "# Американская вилка\n",
    "class Fork_USA:\n",
    "    def power_usa(self):\n",
    "        print('power on. USA')\n",
    "\n",
    "# Европейская вилка\n",
    "class Fork_EURO:\n",
    "    def power_euro(self):\n",
    "        print('power on. EURO')\n",
    "\n",
    "# Американская розетка\n",
    "class Rozetka_USA:\n",
    "    def __init__(self, fork):\n",
    "        self.fork = fork\n",
    "    def connect(self):\n",
    "        self.fork.power_usa()"
   ]
  },
  {
   "cell_type": "markdown",
   "id": "065d0132",
   "metadata": {},
   "source": [
    "Вставляем американскую вилку в американскую розетку."
   ]
  },
  {
   "cell_type": "code",
   "execution_count": 15,
   "id": "c3723b48",
   "metadata": {},
   "outputs": [
    {
     "name": "stdout",
     "output_type": "stream",
     "text": [
      "power on. USA\n"
     ]
    }
   ],
   "source": [
    "FU = Fork_USA()\n",
    "RU = Rozetka_USA(FU)\n",
    "RU.connect()"
   ]
  },
  {
   "cell_type": "markdown",
   "id": "b33a3793",
   "metadata": {},
   "source": [
    "Вставляем европейскую вилку в американскую розетку."
   ]
  },
  {
   "cell_type": "code",
   "execution_count": 16,
   "id": "8958a2f7",
   "metadata": {},
   "outputs": [
    {
     "ename": "AttributeError",
     "evalue": "'Fork_EURO' object has no attribute 'power_usa'",
     "output_type": "error",
     "traceback": [
      "\u001b[1;31m---------------------------------------------------------------------------\u001b[0m",
      "\u001b[1;31mAttributeError\u001b[0m                            Traceback (most recent call last)",
      "Input \u001b[1;32mIn [16]\u001b[0m, in \u001b[0;36m<cell line: 3>\u001b[1;34m()\u001b[0m\n\u001b[0;32m      1\u001b[0m FE \u001b[38;5;241m=\u001b[39m Fork_EURO() \n\u001b[0;32m      2\u001b[0m RU \u001b[38;5;241m=\u001b[39m Rozetka_USA(FE)\n\u001b[1;32m----> 3\u001b[0m \u001b[43mRU\u001b[49m\u001b[38;5;241;43m.\u001b[39;49m\u001b[43mconnect\u001b[49m\u001b[43m(\u001b[49m\u001b[43m)\u001b[49m\n",
      "Input \u001b[1;32mIn [14]\u001b[0m, in \u001b[0;36mRozetka_USA.connect\u001b[1;34m(self)\u001b[0m\n\u001b[0;32m     15\u001b[0m \u001b[38;5;28;01mdef\u001b[39;00m \u001b[38;5;21mconnect\u001b[39m(\u001b[38;5;28mself\u001b[39m):\n\u001b[1;32m---> 16\u001b[0m     \u001b[38;5;28;43mself\u001b[39;49m\u001b[38;5;241;43m.\u001b[39;49m\u001b[43mfork\u001b[49m\u001b[38;5;241;43m.\u001b[39;49m\u001b[43mpower_usa\u001b[49m()\n",
      "\u001b[1;31mAttributeError\u001b[0m: 'Fork_EURO' object has no attribute 'power_usa'"
     ]
    }
   ],
   "source": [
    "FE = Fork_EURO() \n",
    "RU = Rozetka_USA(FE)\n",
    "RU.connect()"
   ]
  },
  {
   "cell_type": "markdown",
   "id": "c72e2abb",
   "metadata": {},
   "source": [
    "Появляется ошибка при попытке вставить европейскую вилку в американскую розетку."
   ]
  },
  {
   "cell_type": "code",
   "execution_count": 21,
   "id": "a609ace8",
   "metadata": {},
   "outputs": [],
   "source": [
    "# Адаптер\n",
    "class Adapter_Euro_to_Usa:\n",
    "    def __init__(self):\n",
    "        self._fork_euro = Fork_EURO()\n",
    "        \n",
    "    def power_usa(self):\n",
    "        self._fork_euro.power_euro()"
   ]
  },
  {
   "cell_type": "code",
   "execution_count": 23,
   "id": "7e4fd1df",
   "metadata": {},
   "outputs": [
    {
     "name": "stdout",
     "output_type": "stream",
     "text": [
      "power on. USA\n",
      "power on. EURO\n"
     ]
    }
   ],
   "source": [
    "# Вставляем американскую вилку в американскую розетку.\n",
    "FU = Fork_USA()\n",
    "RU = Rozetka_USA(FU)\n",
    "RU.connect()\n",
    "\n",
    "# Вставляем европейскую вилку в американскую розетку используя адаптер.\n",
    "AD = Adapter_Euro_to_Usa()\n",
    "RU = Rozetka_USA(AD)\n",
    "RU.connect()"
   ]
  },
  {
   "cell_type": "markdown",
   "id": "1d69eff9",
   "metadata": {},
   "source": [
    "**№ 2. Посредник**\n",
    "\n",
    "**Код:**"
   ]
  },
  {
   "cell_type": "code",
   "execution_count": 40,
   "id": "30fcf18a",
   "metadata": {},
   "outputs": [
    {
     "name": "stdout",
     "output_type": "stream",
     "text": [
      "Показать главное окно\n",
      "Скрыть главное окно\n",
      "Скрыть окно справки\n",
      "Показать окно настроек\n",
      "Скрыть главное окно\n",
      "Скрыть окно настроек\n",
      "Показать окно справки\n"
     ]
    }
   ],
   "source": [
    "class Window_Base(object):\n",
    "    def show(self):\n",
    "        raise NotImplementedError()\n",
    " \n",
    "    def hide(self):\n",
    "        raise NotImplementedError()\n",
    " \n",
    " \n",
    "class Main_Window(Window_Base):\n",
    "    def show(self):\n",
    "        print ('Показать главное окно')\n",
    " \n",
    "    def hide(self):\n",
    "        print ('Скрыть главное окно')\n",
    " \n",
    " \n",
    "class Setting_Window(Window_Base):\n",
    "    def show(self):\n",
    "        print ('Показать окно настроек')\n",
    " \n",
    "    def hide(self):\n",
    "        print ('Скрыть окно настроек')\n",
    " \n",
    " \n",
    "class Help_Window(Window_Base):\n",
    "    def show(self):\n",
    "        print ('Показать окно справки')\n",
    " \n",
    "    def hide(self):\n",
    "        print ('Скрыть окно справки')\n",
    "\n",
    "# Посредник (Mediator)\n",
    "class Window_Mediator(object):\n",
    "    def __init__(self):\n",
    "        self.windows = dict.fromkeys(['main', 'setting', 'help'])\n",
    " \n",
    "    def show(self, win):\n",
    "        for window in self.windows.values():\n",
    "            if not window is win:\n",
    "                window.hide()\n",
    "        win.show()\n",
    " \n",
    "    def set_main(self, win):\n",
    "        self.windows['main'] = win\n",
    " \n",
    "    def set_setting(self, win):\n",
    "        self.windows['setting'] = win\n",
    " \n",
    "    def set_help(self, win):\n",
    "        self.windows['help'] = win\n",
    " \n",
    " \n",
    "main_win = Main_Window()\n",
    "setting_win = Setting_Window()\n",
    "help_win = Help_Window()\n",
    " \n",
    "mediator = Window_Mediator()\n",
    "mediator.set_main(main_win)\n",
    "mediator.set_setting(setting_win)\n",
    "mediator.set_help(help_win)\n",
    " \n",
    "main_win.show()             #Показать главное окно\n",
    " \n",
    "mediator.show(setting_win)  #Скрыть главное окно, Скрыть окно справки, Показать окно настроек\n",
    " \n",
    "mediator.show(help_win)     #Скрыть главное окно, Скрыть окно настроек, Показать окно справки"
   ]
  }
 ],
 "metadata": {
  "kernelspec": {
   "display_name": "Python 3 (ipykernel)",
   "language": "python",
   "name": "python3"
  },
  "language_info": {
   "codemirror_mode": {
    "name": "ipython",
    "version": 3
   },
   "file_extension": ".py",
   "mimetype": "text/x-python",
   "name": "python",
   "nbconvert_exporter": "python",
   "pygments_lexer": "ipython3",
   "version": "3.9.12"
  }
 },
 "nbformat": 4,
 "nbformat_minor": 5
}
